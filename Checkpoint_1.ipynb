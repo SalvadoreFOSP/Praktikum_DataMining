{
  "nbformat": 4,
  "nbformat_minor": 0,
  "metadata": {
    "colab": {
      "provenance": [],
      "authorship_tag": "ABX9TyOAkIFznrenJxgrVJmgzFEB",
      "include_colab_link": true
    },
    "kernelspec": {
      "name": "python3",
      "display_name": "Python 3"
    },
    "language_info": {
      "name": "python"
    }
  },
  "cells": [
    {
      "cell_type": "markdown",
      "metadata": {
        "id": "view-in-github",
        "colab_type": "text"
      },
      "source": [
        "<a href=\"https://colab.research.google.com/github/SalvadoreFOSP/Praktikum_DataMining/blob/main/Checkpoint_1.ipynb\" target=\"_parent\"><img src=\"https://colab.research.google.com/assets/colab-badge.svg\" alt=\"Open In Colab\"/></a>"
      ]
    },
    {
      "cell_type": "markdown",
      "source": [
        "#Analisis Segmentasi Pelanggan Berdasarkan Wilayah Menggunakan Model Supervised Learning"
      ],
      "metadata": {
        "id": "ISJmbzpsiLVH"
      }
    },
    {
      "cell_type": "markdown",
      "source": [
        "## Business Understanding"
      ],
      "metadata": {
        "id": "w6WLB7EWsr1y"
      }
    },
    {
      "cell_type": "markdown",
      "source": [
        "### Tujuan Bisnis\n",
        "Tujuan dari dataset ini adalah untuk mengetahui wilayah negara OECD mana yang paling banyak berlangganan layanan telekomunikasi.\n",
        "\n",
        "### Menilai Situasi\n",
        "Situasi bisnis yang mendasari analisis ini adalah rendahnya optimalisasi layanan terhadap wilayah yang paling banyak pelanggannya.\n",
        "\n",
        "### Tujuan Data Mining\n",
        "Tujuan dari Data Mining pada dataset ini adalah untuk menganalisis wilayah negara OECD mana yang paling sering berlangganan layanan telekomunikasi, sehingga dapat memberikan layanan yang lebih optimal bagi setiap pelanggan.\n",
        "\n",
        "### Perencanaan Proyek\n",
        "Rencana proyek untuk menganalisis dataset ini dimulai dengan pengumpulan data dari berbagai sumber, Selanjutnya data akan dieksplorasi untuk mengetahui wilayah mana saja yang paling banyak pelanggannya sehingga kualitas layanan bisa lebih ditingkatkan."
      ],
      "metadata": {
        "id": "e1xBetLls49B"
      }
    }
  ]
}